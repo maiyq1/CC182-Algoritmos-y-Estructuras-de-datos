{
  "nbformat": 4,
  "nbformat_minor": 0,
  "metadata": {
    "colab": {
      "name": "2.1 Templates.ipynb",
      "provenance": [],
      "authorship_tag": "ABX9TyOxMkStVs8avI/fiioQrRhO",
      "include_colab_link": true
    },
    "kernelspec": {
      "name": "python3",
      "display_name": "Python 3"
    },
    "language_info": {
      "name": "python"
    }
  },
  "cells": [
    {
      "cell_type": "markdown",
      "metadata": {
        "id": "view-in-github",
        "colab_type": "text"
      },
      "source": [
        "<a href=\"https://colab.research.google.com/github/maiyq1/CC182-Algoritmos-y-Estructuras-de-datos/blob/main/2.1%20Templates.ipynb\" target=\"_parent\"><img src=\"https://colab.research.google.com/assets/colab-badge.svg\" alt=\"Open In Colab\"/></a>"
      ]
    },
    {
      "cell_type": "markdown",
      "source": [
        "#Definición\n",
        "Permite crear funciones genéricas que funcionen con cualquier tipo de dato, sea genérico o primitivo\n",
        "\n",
        "**Ejemplo**\n",
        "\n",
        "En lugar de crear una funcion imprimir para cada tipo de dato (int, string, short, etc), se crea, a base de templates, una funcion en la que se defina el tipo de dato que utilizará al momento de invocarla"
      ],
      "metadata": {
        "id": "FlON9skeRXF8"
      }
    },
    {
      "cell_type": "markdown",
      "source": [
        "#Ejercicio 1 - Sin Templates"
      ],
      "metadata": {
        "id": "_rlrSiXA_Olj"
      }
    },
    {
      "cell_type": "markdown",
      "source": [
        "Elaborar un programa en entorno consola que permita almacenar un arreglo de hasta 100 valores enteros.\n",
        "\n",
        "Luego, realice lo siguiente:\n",
        "* Generar los datos del arreglo de manera aleatoria\n",
        "* Listar en pantalla los elementos del arreglo\n",
        "* Buscar el mayor y mostrar su ubicación\n",
        "* Buscar el menor y mostrar su ubicación\n",
        "* Ordenar el arreglo en forma descendente y mostrarlo en pantalla.\n",
        "\n",
        "En la solución considere un menú de opciones para cada funcionalidad y utilice funciones, punteros y arreglos dinámicos."
      ],
      "metadata": {
        "id": "hKZdDk9f_SPp"
      }
    },
    {
      "cell_type": "code",
      "execution_count": null,
      "metadata": {
        "colab": {
          "base_uri": "https://localhost:8080/"
        },
        "id": "jMw_yOkF5xT7",
        "outputId": "14cd3b85-e35a-4daa-969a-02ba0ae269dc"
      },
      "outputs": [
        {
          "output_type": "stream",
          "name": "stdout",
          "text": [
            "Overwriting Biblioteca.hpp\n"
          ]
        }
      ],
      "source": [
        "%%writefile Biblioteca.hpp\n",
        "\n",
        "#include <iostream>\n",
        "#include <cstdlib>\n",
        "#include <ctime>\n",
        "\n",
        "using std::cout;\n",
        "using std::cin;\n",
        "\n",
        "void generar(short* a, size_t n);\n",
        "void listar(short*, size_t);\n",
        "void obtener(short*, size_t);\n",
        "void mayorPromedio(short* a, size_t n);"
      ]
    },
    {
      "cell_type": "code",
      "source": [
        "%%writefile Biblioteca.cpp\n",
        "\n",
        "#include \"Biblioteca.hpp\"\n",
        "\n",
        "void generar(short* a, size_t n){\n",
        "    for(size_t i=0; i<n; ++i)\n",
        "      a[i] = rand()%101+100;\n",
        "}\n",
        "\n",
        "void listar(short* a, size_t n){\n",
        "    for(size_t i=0; i<n; ++i)\n",
        "      cout << i << \"-> \" << a[i] << \"\\n\";\n",
        "}\n",
        "\n",
        "void mayor(short*a, size_t n){\n",
        "    short _mayor = a[0], _pos = -1;\n",
        "\n",
        "    for(size_t i=1; i<n; ++i){\n",
        "        if(a[i] > _mayor){\n",
        "            _mayor = a[i];\n",
        "            _pos = i;\n",
        "        }\n",
        "    }\n",
        "\n",
        "    cout << \"El mayor valor es \" << _mayor << \" y se encuentra en la posicion \" << _pos << \"\\n\";\n",
        "}\n",
        "\n",
        "void ordenar(short* a, size_t n){\n",
        "    for(size_t i=0; i<n-1; ++i){\n",
        "        for(size_t j=i+1; j<n; ++j){\n",
        "            if(a[i]>a[j]){\n",
        "                short aux = a[i];\n",
        "                a[i] = a[j];\n",
        "                a[j] = aux;\n",
        "            }\n",
        "        }\n",
        "    }\n",
        "}\n",
        "\n",
        "void mayorPromedio(short* a, size_t n){\n",
        "    float prom=0.0f;\n",
        "\n",
        "    for(size_t i=0; i<n-1; ++i)\n",
        "      prom+=a[i];\n",
        "    \n",
        "    prom/=n;\n",
        "\n",
        "    for(size_t i=0; i<n-1; ++i)\n",
        "      if(a[i]>prom)\n",
        "        cout << i << \"->\" << a[i] << \"\\n\";\n",
        "}"
      ],
      "metadata": {
        "colab": {
          "base_uri": "https://localhost:8080/"
        },
        "id": "yRu-f73FdF9-",
        "outputId": "07961f7a-4c26-43a2-8e56-affe7b91a2c2"
      },
      "execution_count": null,
      "outputs": [
        {
          "output_type": "stream",
          "name": "stdout",
          "text": [
            "Writing Biblioteca.cpp\n"
          ]
        }
      ]
    },
    {
      "cell_type": "code",
      "source": [
        "%%writefile main.cpp\n",
        "\n",
        "#include \"Biblioteca.cpp\"\n",
        "int main() {\n",
        "  short* arreglo=new short[100];  \n",
        "  srand(time(NULL));//inicializacion de la semilla\n",
        "  generar(arreglo,100);\n",
        "  listar(arreglo, 100);\n",
        "  //mayor(arreglo, 100);  \n",
        "  ordenar(arreglo, 100);\n",
        "  cout<<\"-------------\\n\";\n",
        "  listar(arreglo, 100);\n",
        "  mayorPromedio(arreglo, 100);\n",
        "}"
      ],
      "metadata": {
        "colab": {
          "base_uri": "https://localhost:8080/"
        },
        "id": "Knp25Tq2iGoT",
        "outputId": "05736b2d-5189-4283-8f65-ca27ab9ad906"
      },
      "execution_count": null,
      "outputs": [
        {
          "output_type": "stream",
          "name": "stdout",
          "text": [
            "Writing main.cpp\n"
          ]
        }
      ]
    },
    {
      "cell_type": "code",
      "source": [
        "!g++ main.cpp && ./a.out"
      ],
      "metadata": {
        "id": "S0BsbjK_idge"
      },
      "execution_count": null,
      "outputs": []
    },
    {
      "cell_type": "markdown",
      "source": [
        "#Ejemplo 2 - Con Templates\n",
        "\n",
        ">Desarrollar el ejercicio 1 con templates"
      ],
      "metadata": {
        "id": "M63yKSzKkct8"
      }
    },
    {
      "cell_type": "code",
      "source": [
        "%%writefile Biblioteca.hpp\n",
        "\n",
        "#include <iostream>\n",
        "#include <cstdlib>\n",
        "\n",
        "using std::cout;\n",
        "using std::cin;\n",
        "\n",
        "template <typename Generico>\n",
        "class MiArreglo{\n",
        "    Generico* a;\n",
        "    size_t id;\n",
        "    size_t n;\n",
        "\n",
        "    public:\n",
        "    MiArreglo(){\n",
        "        n = 10;\n",
        "        a = new Generico[n];\n",
        "        id = 0;\n",
        "    }\n",
        "\n",
        "    void insertar(Generico valor){\n",
        "        if(id<n)\n",
        "            a[id++] = valor;\n",
        "    }\n",
        "\n",
        "    void listar(){\n",
        "        for(size_t i=0; i<n; ++i)\n",
        "            cout << i << \"-> \" << a[i] << \"\\n\";\n",
        "        cout << \"\\n\";\n",
        "    }\n",
        "\n",
        "    void getMayor(){\n",
        "        Generico mayorElem = a[0];\n",
        "        short pos = 0;\n",
        "\n",
        "        for(size_t i=1; i<n; ++i){\n",
        "            if(a[i] > mayorElem){\n",
        "                mayorElem = a[i];\n",
        "                pos = i;\n",
        "            }\n",
        "        }\n",
        "        cout << \"El mayor elemento del arreglo es: \" << mayorElem << \" y se encuentra en la posicion \" << pos << \"\\n\";\n",
        "    }\n",
        "\n",
        "    void getMenor(){\n",
        "        Generico menorElem = a[0];\n",
        "        short pos = 0;\n",
        "\n",
        "        for(size_t i=1; i<n; ++i){\n",
        "            if(a[i] < menorElem){\n",
        "                menorElem = a[i];\n",
        "                pos = i;\n",
        "            }\n",
        "        }\n",
        "        cout << \"El menor elemento del arreglo es: \" << menorElem << \" y se encuentra en la posicion \" << pos << \"\\n\";\n",
        "    }\n",
        "\n",
        "    void ordenarAsc(){\n",
        "        for(size_t i=0; i<n-1; ++i){\n",
        "            for(size_t j=i+1; j<n; ++j){\n",
        "                if(a[i] > a[j]){\n",
        "                    short aux = a[i];\n",
        "                    a[i] = a[j];\n",
        "                    a[j] = aux;\n",
        "                }\n",
        "            }\n",
        "        }\n",
        "    }  \n",
        "\n",
        "    void ordenarDesc(){\n",
        "        for(size_t i=0; i<n-1; ++i){\n",
        "            for(size_t j=i+1; j<n; ++j){\n",
        "                if(a[i] < a[j]){\n",
        "                    short aux = a[i];\n",
        "                    a[i] = a[j];\n",
        "                    a[j] = aux;\n",
        "                }\n",
        "            }\n",
        "        }\n",
        "    }\n",
        "};"
      ],
      "metadata": {
        "colab": {
          "base_uri": "https://localhost:8080/"
        },
        "id": "v8zKTUEGl_a1",
        "outputId": "cf8e12d3-5af5-48fc-ad53-6aafb9bf8253"
      },
      "execution_count": null,
      "outputs": [
        {
          "output_type": "stream",
          "name": "stdout",
          "text": [
            "Writing Biblioteca.hpp\n"
          ]
        }
      ]
    },
    {
      "cell_type": "code",
      "source": [
        "%%writefile main2.cpp\n",
        "\n",
        "#include \"Biblioteca.hpp\"\n",
        "\n",
        "int main(){\n",
        "    MiArreglo<short>* arr1 = new MiArreglo<short>();\n",
        "\n",
        "    for(size_t i=0; i<10; ++i){\n",
        "        short valor = rand()% 10+1;\n",
        "        arr1->insertar(valor);\n",
        "    }\n",
        "\n",
        "    arr1->listar();\n",
        "    arr1->getMayor();\n",
        "    arr1->getMenor();\n",
        "    arr1->ordenarDesc();\n",
        "    arr1->listar();\n",
        "    arr1->ordenarAsc();\n",
        "    arr1->listar();\n",
        "\n",
        "    return 0;\n",
        "}"
      ],
      "metadata": {
        "colab": {
          "base_uri": "https://localhost:8080/"
        },
        "id": "vu_1pNyCT2rZ",
        "outputId": "e0e6a5ff-b2e6-4b7a-96b5-374c83e462a5"
      },
      "execution_count": null,
      "outputs": [
        {
          "output_type": "stream",
          "name": "stdout",
          "text": [
            "Overwriting main2.cpp\n"
          ]
        }
      ]
    },
    {
      "cell_type": "code",
      "source": [
        "!g++ main2.cpp && ./a.out"
      ],
      "metadata": {
        "colab": {
          "base_uri": "https://localhost:8080/"
        },
        "id": "K1fhhdaXVk0r",
        "outputId": "d90fa13c-3754-44b4-878c-cf0d3e3e1a32"
      },
      "execution_count": null,
      "outputs": [
        {
          "output_type": "stream",
          "name": "stdout",
          "text": [
            "0-> 4\n",
            "1-> 7\n",
            "2-> 8\n",
            "3-> 6\n",
            "4-> 4\n",
            "5-> 6\n",
            "6-> 7\n",
            "7-> 3\n",
            "8-> 10\n",
            "9-> 2\n",
            "\n",
            "El mayor elemento del arreglo es: 10 y se encuentra en la posicion 8\n",
            "El menor elemento del arreglo es: 2 y se encuentra en la posicion 9\n",
            "0-> 10\n",
            "1-> 8\n",
            "2-> 7\n",
            "3-> 7\n",
            "4-> 6\n",
            "5-> 6\n",
            "6-> 4\n",
            "7-> 4\n",
            "8-> 3\n",
            "9-> 2\n",
            "\n",
            "0-> 2\n",
            "1-> 3\n",
            "2-> 4\n",
            "3-> 4\n",
            "4-> 6\n",
            "5-> 6\n",
            "6-> 7\n",
            "7-> 7\n",
            "8-> 8\n",
            "9-> 10\n",
            "\n"
          ]
        }
      ]
    },
    {
      "cell_type": "markdown",
      "source": [
        "#Asignacion"
      ],
      "metadata": {
        "id": "MRjC_FZbZQaz"
      }
    },
    {
      "cell_type": "markdown",
      "source": [
        ">Desarrollar los métodos faltantes del ejercicio 1 en el ejercicio 2"
      ],
      "metadata": {
        "id": "JhyCU-3DZScB"
      }
    }
  ]
}