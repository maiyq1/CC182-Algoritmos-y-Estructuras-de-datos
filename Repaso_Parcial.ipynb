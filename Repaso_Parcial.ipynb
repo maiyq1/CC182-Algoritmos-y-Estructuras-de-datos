{
  "nbformat": 4,
  "nbformat_minor": 0,
  "metadata": {
    "colab": {
      "name": "Repaso Parcial.ipynb",
      "provenance": [],
      "authorship_tag": "ABX9TyOzWWEu0+vncOLhTat4MNLB",
      "include_colab_link": true
    },
    "kernelspec": {
      "name": "python3",
      "display_name": "Python 3"
    },
    "language_info": {
      "name": "python"
    }
  },
  "cells": [
    {
      "cell_type": "markdown",
      "metadata": {
        "id": "view-in-github",
        "colab_type": "text"
      },
      "source": [
        "<a href=\"https://colab.research.google.com/github/maiyq1/CC182-Algoritmos-y-Estructuras-de-datos/blob/main/Repaso_Parcial.ipynb\" target=\"_parent\"><img src=\"https://colab.research.google.com/assets/colab-badge.svg\" alt=\"Open In Colab\"/></a>"
      ]
    },
    {
      "cell_type": "markdown",
      "source": [
        "#Ejercicio 1\n",
        "\n",
        ">Implemente una lista simplemente enlazada circular con las siguientes caracteristicas:\n",
        "\n",
        "* Usar POO\n",
        "* Implementar el método insertar al inicio. De orden O(1)\n",
        "* Implementar el método eliminar en posición. De orden O(n)\n",
        "* Implementar el método buscar que retorne una lista de elementos que coincidan usando un lambda para establecer el criterio de búsqueda. De orden O(n)\n",
        "* Implemente el patrón **iterador** para la lista\n",
        "* Implemente una aplicación de prueba que permita llenar la lista con 10k elementos aleatorios de tipo clase. La clase será a su elección y deberá tener por lo menos **3 atributos**"
      ],
      "metadata": {
        "id": "MYTqoTJdMo6c"
      }
    },
    {
      "cell_type": "code",
      "execution_count": null,
      "metadata": {
        "id": "syVYJgx_MOYN"
      },
      "outputs": [],
      "source": [
        "%%writefile ejercicio1.cpp\n",
        "\n",
        "#include <ctime>\n",
        "#include <string>\n",
        "#include <iostream>\n",
        "#include <functional>\n",
        "\n",
        "using std::function;\n",
        "using std::string;\n",
        "using namespace std;\n",
        "\n",
        "template <class G>\n",
        "struct Nodo{\n",
        "    public:\n",
        "      G elemento;\n",
        "      Nodo<G>* sig;\n",
        "      Nodo(G valor) : elemeto(elemento) {\n",
        "          next = nullptr\n",
        "      }\n",
        "};\n",
        "\n",
        "template <class G>\n",
        "class Lista{\n",
        "    private:\n",
        "      Nodo<G>* inicio;\n",
        "      Nodo<G>* final;\n",
        "      size_t = cantidad;\n",
        "      Nodo<G> tmp;\n",
        "\n",
        "    public:\n",
        "      Lista(){\n",
        "          inicio = final = tmp = nullptr;\n",
        "          cantidad = 0;\n",
        "      }\n",
        "\n",
        "      void push_front(G valor){\n",
        "          Nodo<G>* nuevo = new Nodo<G>(valor);\n",
        "          if (start == nullptr)\n",
        "            inicio = final = nuevo;\n",
        "          else {\n",
        "              nuevo->sig = inicio;\n",
        "              inicio = nuevo;\n",
        "          }\n",
        "          final->sig = inicio;\n",
        "          ++cantidad;\n",
        "      }\n",
        "\n",
        "      void push_back(G valor){\n",
        "          Nodo<G>* nuevo = new Nodo<G>(valor);\n",
        "          if(start == nullptr){\n",
        "              inicio = final = nuevo;\n",
        "          }\n",
        "          else{\n",
        "              final->sig = nuevo;\n",
        "              \n",
        "          }\n",
        "      }\n",
        "\n",
        "      \n",
        "\n",
        "      void search_node(long pos){\n",
        "          if(pos<1 || pos>cantidad)\n",
        "            printf(\"Fuera de rango\\n\");\n",
        "          else{\n",
        "              Node* aux = inicio;\n",
        "              size_t cont = 0;\n",
        "              while(cont != pos){\n",
        "                  aux = aux->sig;\n",
        "                  ++cont;\n",
        "              }\n",
        "              printf(\"El nodo de pos %d es %\")\n",
        "          }\n",
        "      }\n",
        "\n",
        "      void iterate(function<void(G)> func){\n",
        "          Nodo<G>* aux = inicio;\n",
        "          while(aux != nullptr){\n",
        "              func(aux->elemento);\n",
        "              aux = aux->sig;\n",
        "          }\n",
        "      }\n",
        "\n",
        "\n",
        "};\n",
        "\n",
        "class Usuario{\n",
        "    public:\n",
        "      string nombre;\n",
        "      int edad;\n",
        "      string centroEstudios;\n",
        "\n",
        "      Usuario(string nombre=\"\", int edad=0, string centroEstudios=\"\")\n",
        "      :nombre(nombre), edad(edad), centroEstudios(centroEstudios){}\n",
        "\n",
        "      string toString(){\n",
        "          return nombre + \"\\t\" + to_string(edad) + \"\\t\" + centroEstudios;\n",
        "      }\n",
        "};\n",
        "\n",
        "int main(){\n",
        "    Lista<Usuario> comunidad;\n",
        "\n",
        "    int opc;\n",
        "\n",
        "    while(opc != 0){\n",
        "        cout << \"Ejercicio 1: Listas enlazadas\" << endl;\n",
        "        cout << \"Ingrese una opcion:\" << endl;\n",
        "        cout << \"(1) Insertar al inicio O(1)\\n\";\n",
        "        cout << \"(2) Eliminar en posicion\\n\";\n",
        "        cout << \"(3) Buscar\" \n",
        "    }\n",
        "}"
      ]
    },
    {
      "cell_type": "markdown",
      "source": [
        "#Ejercicio 2"
      ],
      "metadata": {
        "id": "1bz7ZZp0KTXP"
      }
    },
    {
      "cell_type": "markdown",
      "source": [
        ">Implemente los algoritmos de ordenamiento que producen los siguientes resultados:"
      ],
      "metadata": {
        "id": "m6UXcOlTKcr2"
      }
    },
    {
      "cell_type": "markdown",
      "source": [
        "* Algoritmo 1:\n",
        "\n",
        "[ s s k y b n v j h t ]\n",
        "\n",
        "[ b s k y s n v j h t ]\n",
        "\n",
        "[ b h k y s n v j s t ]\n",
        "\n",
        "[ b h j y s n v k s t ]\n",
        "\n",
        "[ b h j k s n v y s t ]\n",
        "\n",
        "[ b h j k n s v y s t ]\n",
        "\n",
        "[ b h j k n s s y v t ]\n",
        "\n",
        "[ b h j k n s s t v y ]\n",
        "\n",
        "* Algoritmo 2:\n",
        "\n",
        "[ b l n s d w f ]\n",
        "\n",
        "[ b l n s s w f ]\n",
        "\n",
        "[ b l n n s w f ]\n",
        "\n",
        "[ b l l n s w f ]\n",
        "\n",
        "[ b d l n s w f ]\n",
        "\n",
        "[ b d l n s w w ]\n",
        "\n",
        "[ b d l n s s w ]\n",
        "\n",
        "[ b d l n n s w ]\n",
        "\n",
        "[ b d l l n s w ]\n",
        "\n",
        "[ b d f l n s w ]"
      ],
      "metadata": {
        "id": "ZwYmOl2hOSCz"
      }
    },
    {
      "cell_type": "markdown",
      "source": [
        "Que algoritmo no realiza intercambios?\n",
        "\n",
        "> Insertion Sort\n",
        "\n",
        "¿Cuál es el algoritmo que realiza la menos cantidad de intercambios?\n",
        "\n",
        "> Selection Sort\n",
        "\n",
        "¿Cuál es la complejidad al\n",
        "\n",
        "Cual es el algoritmo basico que podria ser mas eficiente"
      ],
      "metadata": {
        "id": "9Gk5QfE3X8DC"
      }
    },
    {
      "cell_type": "code",
      "source": [
        "%%writefile ejercicio2.cpp\n",
        "\n",
        "#include <ctime>\n",
        "#include <cstdio>\n",
        "#include <string>\n",
        "#include <functional>\n",
        "#include <iostream>\n",
        "\n",
        "using std::function;\n",
        "using std::string;\n",
        "\n",
        "using namespace std;\n",
        "\n",
        "typedef unsigned long ul;\n",
        "\n",
        "template <class G>\n",
        "class Vector{\n",
        "    private:\n",
        "      G* arr;\n",
        "      long id;\n",
        "      ul size;\n",
        "\n",
        "    public:\n",
        "      Vector(ul size=10) : size(size), id(-1){\n",
        "          arr = new G[size];\n",
        "      }\n",
        "      ~Vector(){}\n",
        "\n",
        "      void swap(G* a, G* b){\n",
        "          G temp = *a;\n",
        "          *a = *b;\n",
        "          *b = temp;\n",
        "      }\n",
        "\n",
        "      void push_back(G value){\n",
        "          arr[++id] = value;\n",
        "      }\n",
        "\n",
        "      void iterate(function<void(G)> func){\n",
        "          for(int i=0; i<=id; i++)\n",
        "            func(arr[i]);\n",
        "          printf(\"\\n\");\n",
        "      }\n",
        "\n",
        "      void selectionSort(){\n",
        "          long id_min;\n",
        "          for(int i=0; i<=id-1; i++){\n",
        "              id_min = i;\n",
        "              for(int j=i+1; j<=id; j++)\n",
        "                if(arr[j] < arr[id_min])\n",
        "                  id_min = j;\n",
        "              \n",
        "              swap(&arr[id_min], &arr[i]);\n",
        "          }\n",
        "      }\n",
        "\n",
        "      void insertionSort(){\n",
        "          int key, j;\n",
        "          for(int i=1; i<id; i++){\n",
        "              key = arr[i];\n",
        "              j = i-1;\n",
        "              while(j>=0 && arr[j]>key){\n",
        "                  arr[j+1] = arr[j];\n",
        "                  j = j-1;\n",
        "              }\n",
        "              arr[j+1] = key;\n",
        "          }\n",
        "      }\n",
        "};\n",
        "\n",
        "int main(){\n",
        "    srand(time(NULL));\n",
        "\n",
        "    Vector<char> vChar(10);\n",
        "    Vector<char> vCharNew(10);\n",
        "\n",
        "    for(size_t i=0; i<10; i++){\n",
        "        int random1 = rand()% 24 + 97;\n",
        "        int random2 = rand()% 24 + 97;\n",
        "        vChar.push_back(char(random1));\n",
        "        vCharNew.push_back(char(random2));\n",
        "    }\n",
        "    \n",
        "    vChar.iterate([](char c) {printf(\"%c\", c);});\n",
        "    vChar.selectionSort();\n",
        "    vChar.iterate([](char c) {printf(\"%c\", c);});\n",
        "\n",
        "    printf(\"\\n\");\n",
        "\n",
        "    vCharNew.iterate([](char c) {printf(\"%c\", c);});\n",
        "    vCharNew.insertionSort();\n",
        "    vCharNew.iterate([](char c) {printf(\"%c\", c);});\n",
        "}"
      ],
      "metadata": {
        "colab": {
          "base_uri": "https://localhost:8080/"
        },
        "id": "fO9hOKSKKwaK",
        "outputId": "14e27758-d216-4778-8eeb-e33c97d49766"
      },
      "execution_count": null,
      "outputs": [
        {
          "output_type": "stream",
          "name": "stdout",
          "text": [
            "Overwriting ejercicio2.cpp\n"
          ]
        }
      ]
    },
    {
      "cell_type": "code",
      "source": [
        "!g++ ejercicio2.cpp && ./a.out"
      ],
      "metadata": {
        "colab": {
          "base_uri": "https://localhost:8080/"
        },
        "id": "qSkC57liSAWS",
        "outputId": "7d497811-e563-4f33-a7c4-8b95e00e60a3"
      },
      "execution_count": null,
      "outputs": [
        {
          "output_type": "stream",
          "name": "stdout",
          "text": [
            "agncutxkib\n",
            "abcgikntux\n",
            "\n",
            "gpfekhhckl\n",
            "cefghhkkpl\n"
          ]
        }
      ]
    },
    {
      "cell_type": "markdown",
      "source": [
        "#Caso de estudio: Simulacion de Atencion al Usuario"
      ],
      "metadata": {
        "id": "VM5rDVL_eG8i"
      }
    },
    {
      "cell_type": "code",
      "source": [
        "%%writefile Usuario.hpp\n",
        "\n",
        "#ifndef __USUARIO_HPP__\n",
        "#define __USUARIO_HPP__\n",
        "\n",
        "class Usuario{\n",
        "    private:\n",
        "      char* nombre;\n",
        "      char* apellido;\n",
        "      long codigo;\n",
        "      short nroTicket;\n",
        "      char tipoUsuario;\n",
        "\n",
        "    public:\n",
        "      Usuario();\n",
        "      Usuario(char* nombre, char* apellido, long codigo, short nroTicket, char tipoUsuario);\n",
        "      ~Usuario();\n",
        "\n",
        "      char* getNombre();\n",
        "      char* getApellido();\n",
        "      long getCodigo();\n",
        "      short getNroCodigo();\n",
        "      char getTipoUsuario();\n",
        "\n",
        "      void setNombre(char* nombre);\n",
        "      void setApellido(char* apellido);\n",
        "      void setCodigo(long codigo);\n",
        "      void setNroTicket(short nroTicket);\n",
        "      void setTipoUsuario(char tipoUsuario);\n",
        "\n",
        "};\n",
        "#endif"
      ],
      "metadata": {
        "id": "4bDoyr4Jeowy"
      },
      "execution_count": null,
      "outputs": []
    },
    {
      "cell_type": "code",
      "source": [
        "%%writefile Usuario.cpp\n",
        "\n",
        "#include \"Usuario.hpp\"\n",
        "\n",
        "char* Usuario::getNombre(){ return nombre;}\n",
        "char* Usuario::getApellido(){ return apellido;}\n",
        "long Usuario::getCodigo(){ return codigo;}\n",
        "short Usuario::getNroCodigo(){ return nroTicket;}\n",
        "char Usuario::getTipoUsuario(){ return tipoUsuario;}\n",
        "\n",
        "void Usuario::setNombre(char* nombre) { this->nombre = nombre; }\n",
        "void Usuario::setApellido(char* apellido) { this->apellido = apellido; }\n",
        "void Usuario::setCodigo(long codigo) { this->codigo = codigo; }\n",
        "void Usuario::setNroTicket(short nroTicket) { this->nroTicker = nroTicket; }\n",
        "void Usuario::setTipoUsuario(char tipoUsuario) { this->tipoUsuario = tipoUsuario; }\n",
        "\n",
        "Usuario::Usuario(){\n",
        "    this->nombre = new char[10];\n",
        "    this->apellido = new char[10];\n",
        "    this->codigo = 0;\n",
        "    this->nroTicket = 0;\n",
        "    this->tipoUsuario = 'A';\n",
        "}\n",
        "\n",
        "Usuario::Usuario(char* nombre, char* apellido, long codigo, short nroTicket, char tipoUsuario){\n",
        "    this->nombre = nombre;\n",
        "    this->apellido = apellido;\n",
        "    this->codigo = codigo;\n",
        "    this->nroTicket = nroTicket;\n",
        "    this->tipoUsuario = tipoUsuario;\n",
        "}\n",
        "\n",
        "Usuario::~Usuario(){\n",
        "    delete nombre;\n",
        "    delete apellido;\n",
        "}"
      ],
      "metadata": {
        "id": "SA21Brh2kctN"
      },
      "execution_count": null,
      "outputs": []
    },
    {
      "cell_type": "code",
      "source": [
        "%%writefile Cola.hpp\n",
        "\n",
        "#ifndef __COLA_HPP__\n",
        "#define __COLA_HPP__\n",
        "\n",
        "class Cola{\n",
        "    private:\n",
        "    public:\n",
        "      Cola();\n",
        "      ~Cola();\n",
        "}\n",
        "\n",
        "Cola(){\n",
        "    \n",
        "}\n",
        "\n",
        "~Cola(){\n",
        "    \n",
        "}\n",
        "\n",
        "#endif"
      ],
      "metadata": {
        "id": "EzBIwrEsk18_"
      },
      "execution_count": null,
      "outputs": []
    }
  ]
}