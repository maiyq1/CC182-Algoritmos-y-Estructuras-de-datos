{
  "nbformat": 4,
  "nbformat_minor": 0,
  "metadata": {
    "colab": {
      "name": "Repaso Parcial.ipynb",
      "provenance": [],
      "collapsed_sections": [],
      "authorship_tag": "ABX9TyO9avn3j9fIcpwVDen+/vuN",
      "include_colab_link": true
    },
    "kernelspec": {
      "name": "python3",
      "display_name": "Python 3"
    },
    "language_info": {
      "name": "python"
    }
  },
  "cells": [
    {
      "cell_type": "markdown",
      "metadata": {
        "id": "view-in-github",
        "colab_type": "text"
      },
      "source": [
        "<a href=\"https://colab.research.google.com/github/maiyq1/CC182-Algoritmos-y-Estructuras-de-datos/blob/main/Repaso_Parcial.ipynb\" target=\"_parent\"><img src=\"https://colab.research.google.com/assets/colab-badge.svg\" alt=\"Open In Colab\"/></a>"
      ]
    },
    {
      "cell_type": "markdown",
      "source": [
        "#Ejercicio 1\n",
        "\n",
        ">Implemente una lista simplemente enlazada circular con las siguientes caracteristicas:\n",
        "\n",
        "* Usar POO\n",
        "* Implementar el método insertar al inicio. De orden O(1)\n",
        "* Implementar el método eliminar en posición. De orden O(n)\n",
        "* Implementar el método buscar que retorne una lista de elementos que coincidan usando un lambda para establecer el criterio de búsqueda. De orden O(n)\n",
        "* Implemente el patrón **iterador** para la lista\n",
        "* Implemente una aplicación de prueba que permita llenar la lista con 10k elementos aleatorios de tipo clase. La clase será a su elección y deberá tener por lo menos **3 atributos**"
      ],
      "metadata": {
        "id": "MYTqoTJdMo6c"
      }
    },
    {
      "cell_type": "code",
      "execution_count": 9,
      "metadata": {
        "id": "syVYJgx_MOYN",
        "colab": {
          "base_uri": "https://localhost:8080/"
        },
        "outputId": "5287a0d8-b597-4fcc-b884-f090da6faedb"
      },
      "outputs": [
        {
          "output_type": "stream",
          "name": "stdout",
          "text": [
            "Overwriting ejercicio1.cpp\n"
          ]
        }
      ],
      "source": [
        "%%writefile ejercicio1.cpp\n",
        "\n",
        "#include <ctime>\n",
        "#include <string>\n",
        "#include <iostream>\n",
        "#include <functional>\n",
        "\n",
        "using std::function;\n",
        "using std::string;\n",
        "using namespace std;\n",
        "\n",
        "template <class G>\n",
        "struct Nodo{\n",
        "    public:\n",
        "      G elemento;\n",
        "      Nodo<G>* sig;\n",
        "      Nodo(G valor) : elemento(elemento) {\n",
        "          next = nullptr;\n",
        "      }\n",
        "};\n",
        "\n",
        "template <class G>\n",
        "class Lista{\n",
        "    private:\n",
        "      Nodo<G>* inicio;\n",
        "      Nodo<G>* final;\n",
        "      size_t cantidad;\n",
        "      Nodo<G> tmp;\n",
        "\n",
        "    public:\n",
        "      Lista(){\n",
        "          inicio = final = tmp = nullptr;\n",
        "          cantidad = 0;\n",
        "      }\n",
        "\n",
        "      void push_front(G valor){\n",
        "          Nodo<G>* nuevo = new Nodo<G>(valor);\n",
        "          if (inicio == nullptr)\n",
        "            inicio = final = nuevo;\n",
        "          else {\n",
        "              nuevo->sig = inicio;\n",
        "              inicio = nuevo;\n",
        "          }\n",
        "          final->sig = inicio;\n",
        "          ++cantidad;\n",
        "      }\n",
        "\n",
        "      void push_back(G valor){\n",
        "          Nodo<G>* nuevo = new Nodo<G>(valor);\n",
        "          if(inicio == nullptr){\n",
        "              inicio = final = nuevo;\n",
        "          }\n",
        "          else{\n",
        "              final->sig = nuevo;\n",
        "              final = nuevo;\n",
        "          }\n",
        "          nuevo->sig = inicio;\n",
        "          ++cantidad;\n",
        "      }\n",
        "\n",
        "      Nodo<G>* getNodoByPos(long pos){\n",
        "          tmp = inicio;\n",
        "          for(size_t i=0; i<pos; ++i)\n",
        "            tmp = tmp->sig;\n",
        "          return tmp;\n",
        "      }\n",
        "\n",
        "      G getElementByPos(long pos){\n",
        "          tmp = inicio;\n",
        "          for(size_t i=0; i<pos; ++i)\n",
        "            tmp = tmp->sig;\n",
        "          return tmp->elemento;\n",
        "      }\n",
        "\n",
        "      bool eraseByPos(long pos){\n",
        "          Nodo<G>* tmpPrev;\n",
        "          if(pos>=0 && pos<cantidad){\n",
        "              if(pos == 0){\n",
        "                  if(cantidad == 1)\n",
        "                    inicio = nullptr;\n",
        "                  else{\n",
        "                      tmp = inicio;\n",
        "                      inicio = inicio->sig;\n",
        "                      final->sig = inicio;\n",
        "                  }\n",
        "              }\n",
        "              else{\n",
        "                  tmpPrev = getNodeByPos(pos-1);\n",
        "                  tmp = tmpPrev->sig;\n",
        "                  tmpPrev->sig = tmp->sig;\n",
        "                   if(pos == cantidad-1){\n",
        "                       final = \n",
        "                   }\n",
        "              }\n",
        "              delete tmp;\n",
        "              tmp = nullptr;\n",
        "              cantidad--;\n",
        "          }\n",
        "      }\n",
        "\n",
        "      void search_node(long pos){\n",
        "          if(pos<1 || pos>cantidad)\n",
        "            printf(\"Fuera de rango\\n\");\n",
        "          else{\n",
        "              Node* aux = inicio;\n",
        "              size_t cont = 0;\n",
        "              while(cont != pos){\n",
        "                  aux = aux->sig;\n",
        "                  ++cont;\n",
        "              }\n",
        "              printf(\"El nodo de pos %d es %\")\n",
        "          }\n",
        "      }\n",
        "\n",
        "      void iterate(function<void(G)> func){\n",
        "          Nodo<G>* aux = inicio;\n",
        "          while(aux != nullptr){\n",
        "              func(aux->elemento);\n",
        "              aux = aux->sig;\n",
        "          }\n",
        "      }\n",
        "\n",
        "\n",
        "};\n",
        "\n",
        "class Usuario{\n",
        "    public:\n",
        "      string nombre;\n",
        "      int edad;\n",
        "      string centroEstudios;\n",
        "\n",
        "      Usuario(string nombre=\"\", int edad=0, string centroEstudios=\"\")\n",
        "      :nombre(nombre), edad(edad), centroEstudios(centroEstudios){}\n",
        "\n",
        "      string toString(){\n",
        "          return nombre + \"\\t\" + to_string(edad) + \"\\t\" + centroEstudios;\n",
        "      }\n",
        "};\n",
        "\n",
        "int main(){\n",
        "    Lista<Usuario> comunidad;\n",
        "\n",
        "    int opc;\n",
        "\n",
        "    while(opc != 0){\n",
        "        cout << \"Ejercicio 1: Listas enlazadas\" << endl;\n",
        "        cout << \"Ingrese una opcion:\" << endl;\n",
        "        cout << \"(1) Insertar al inicio O(1)\\n\";\n",
        "        cout << \"(2) Eliminar en posicion\\n\";\n",
        "        cout << \"(3) Buscar\" \n",
        "    }\n",
        "}"
      ]
    },
    {
      "cell_type": "code",
      "source": [
        "!g++ ejercicio1.cpp && ./a.out"
      ],
      "metadata": {
        "colab": {
          "base_uri": "https://localhost:8080/"
        },
        "id": "OsildVGgyjmB",
        "outputId": "eb1efe33-b54f-4e74-f5bd-9eba2f4ccc5e"
      },
      "execution_count": 10,
      "outputs": [
        {
          "output_type": "stream",
          "name": "stdout",
          "text": [
            "\u001b[01m\u001b[Kejercicio1.cpp:\u001b[m\u001b[K In member function ‘\u001b[01m\u001b[Kbool Lista<G>::eraseByPos(long int)\u001b[m\u001b[K’:\n",
            "\u001b[01m\u001b[Kejercicio1.cpp:87:29:\u001b[m\u001b[K \u001b[01;31m\u001b[Kerror: \u001b[m\u001b[Kthere are no arguments to ‘\u001b[01m\u001b[KgetNodeByPos\u001b[m\u001b[K’ that depend on a template parameter, so a declaration of ‘\u001b[01m\u001b[KgetNodeByPos\u001b[m\u001b[K’ must be available [\u001b[01;31m\u001b[K-fpermissive\u001b[m\u001b[K]\n",
            "                   tmpPrev = \u001b[01;31m\u001b[KgetNodeByPos\u001b[m\u001b[K(pos-1);\n",
            "                             \u001b[01;31m\u001b[K^~~~~~~~~~~~\u001b[m\u001b[K\n",
            "\u001b[01m\u001b[Kejercicio1.cpp:87:29:\u001b[m\u001b[K \u001b[01;36m\u001b[Knote: \u001b[m\u001b[K(if you use ‘\u001b[01m\u001b[K-fpermissive\u001b[m\u001b[K’, G++ will accept your code, but allowing the use of an undeclared name is deprecated)\n",
            "\u001b[01m\u001b[Kejercicio1.cpp:92:20:\u001b[m\u001b[K \u001b[01;31m\u001b[Kerror: \u001b[m\u001b[Kexpected primary-expression before ‘\u001b[01m\u001b[K}\u001b[m\u001b[K’ token\n",
            "                    \u001b[01;31m\u001b[K}\u001b[m\u001b[K\n",
            "                    \u001b[01;31m\u001b[K^\u001b[m\u001b[K\n",
            "\u001b[01m\u001b[Kejercicio1.cpp:92:20:\u001b[m\u001b[K \u001b[01;31m\u001b[Kerror: \u001b[m\u001b[Kexpected ‘\u001b[01m\u001b[K;\u001b[m\u001b[K’ before ‘\u001b[01m\u001b[K}\u001b[m\u001b[K’ token\n",
            "\u001b[01m\u001b[Kejercicio1.cpp:\u001b[m\u001b[K In member function ‘\u001b[01m\u001b[Kvoid Lista<G>::search_node(long int)\u001b[m\u001b[K’:\n",
            "\u001b[01m\u001b[Kejercicio1.cpp:104:15:\u001b[m\u001b[K \u001b[01;31m\u001b[Kerror: \u001b[m\u001b[K‘\u001b[01m\u001b[KNode\u001b[m\u001b[K’ was not declared in this scope\n",
            "               \u001b[01;31m\u001b[KNode\u001b[m\u001b[K* aux = inicio;\n",
            "               \u001b[01;31m\u001b[K^~~~\u001b[m\u001b[K\n",
            "\u001b[01m\u001b[Kejercicio1.cpp:104:15:\u001b[m\u001b[K \u001b[01;36m\u001b[Knote: \u001b[m\u001b[Ksuggested alternative: ‘\u001b[01m\u001b[KNodo\u001b[m\u001b[K’\n",
            "               \u001b[01;36m\u001b[KNode\u001b[m\u001b[K* aux = inicio;\n",
            "               \u001b[01;36m\u001b[K^~~~\u001b[m\u001b[K\n",
            "               \u001b[32m\u001b[KNodo\u001b[m\u001b[K\n",
            "\u001b[01m\u001b[Kejercicio1.cpp:104:21:\u001b[m\u001b[K \u001b[01;31m\u001b[Kerror: \u001b[m\u001b[K‘\u001b[01m\u001b[Kaux\u001b[m\u001b[K’ was not declared in this scope\n",
            "               Node* \u001b[01;31m\u001b[Kaux\u001b[m\u001b[K = inicio;\n",
            "                     \u001b[01;31m\u001b[K^~~\u001b[m\u001b[K\n",
            "\u001b[01m\u001b[Kejercicio1.cpp:111:11:\u001b[m\u001b[K \u001b[01;31m\u001b[Kerror: \u001b[m\u001b[Kexpected ‘\u001b[01m\u001b[K;\u001b[m\u001b[K’ before ‘\u001b[01m\u001b[K}\u001b[m\u001b[K’ token\n",
            "           \u001b[01;31m\u001b[K}\u001b[m\u001b[K\n",
            "           \u001b[01;31m\u001b[K^\u001b[m\u001b[K\n",
            "\u001b[01m\u001b[Kejercicio1.cpp:\u001b[m\u001b[K In function ‘\u001b[01m\u001b[Kint main()\u001b[m\u001b[K’:\n",
            "\u001b[01m\u001b[Kejercicio1.cpp:150:5:\u001b[m\u001b[K \u001b[01;31m\u001b[Kerror: \u001b[m\u001b[Kexpected ‘\u001b[01m\u001b[K;\u001b[m\u001b[K’ before ‘\u001b[01m\u001b[K}\u001b[m\u001b[K’ token\n",
            "     \u001b[01;31m\u001b[K}\u001b[m\u001b[K\n",
            "     \u001b[01;31m\u001b[K^\u001b[m\u001b[K\n",
            "ejercicio1.cpp: In instantiation of ‘\u001b[01m\u001b[KLista<G>::Lista() [with G = Usuario]\u001b[m\u001b[K’:\n",
            "\u001b[01m\u001b[Kejercicio1.cpp:140:20:\u001b[m\u001b[K   required from here\n",
            "\u001b[01m\u001b[Kejercicio1.cpp:30:14:\u001b[m\u001b[K \u001b[01;31m\u001b[Kerror: \u001b[m\u001b[Kno matching function for call to ‘\u001b[01m\u001b[KNodo<Usuario>::Nodo()\u001b[m\u001b[K’\n",
            "       Lista()\u001b[01;31m\u001b[K{\u001b[m\u001b[K\n",
            "              \u001b[01;31m\u001b[K^\u001b[m\u001b[K\n",
            "\u001b[01m\u001b[Kejercicio1.cpp:16:7:\u001b[m\u001b[K \u001b[01;36m\u001b[Knote: \u001b[m\u001b[Kcandidate: Nodo<G>::Nodo(G) [with G = Usuario]\n",
            "       \u001b[01;36m\u001b[KNodo\u001b[m\u001b[K(G valor) : elemento(elemento) {\n",
            "       \u001b[01;36m\u001b[K^~~~\u001b[m\u001b[K\n",
            "\u001b[01m\u001b[Kejercicio1.cpp:16:7:\u001b[m\u001b[K \u001b[01;36m\u001b[Knote: \u001b[m\u001b[K  candidate expects 1 argument, 0 provided\n",
            "\u001b[01m\u001b[Kejercicio1.cpp:12:8:\u001b[m\u001b[K \u001b[01;36m\u001b[Knote: \u001b[m\u001b[Kcandidate: Nodo<Usuario>::Nodo(const Nodo<Usuario>&)\n",
            " struct \u001b[01;36m\u001b[KNodo\u001b[m\u001b[K{\n",
            "        \u001b[01;36m\u001b[K^~~~\u001b[m\u001b[K\n",
            "\u001b[01m\u001b[Kejercicio1.cpp:12:8:\u001b[m\u001b[K \u001b[01;36m\u001b[Knote: \u001b[m\u001b[K  candidate expects 1 argument, 0 provided\n",
            "\u001b[01m\u001b[Kejercicio1.cpp:12:8:\u001b[m\u001b[K \u001b[01;36m\u001b[Knote: \u001b[m\u001b[Kcandidate: Nodo<Usuario>::Nodo(Nodo<Usuario>&&)\n",
            "\u001b[01m\u001b[Kejercicio1.cpp:12:8:\u001b[m\u001b[K \u001b[01;36m\u001b[Knote: \u001b[m\u001b[K  candidate expects 1 argument, 0 provided\n",
            "\u001b[01m\u001b[Kejercicio1.cpp:31:32:\u001b[m\u001b[K \u001b[01;31m\u001b[Kerror: \u001b[m\u001b[Kno match for ‘\u001b[01m\u001b[Koperator=\u001b[m\u001b[K’ (operand types are ‘\u001b[01m\u001b[KNodo<Usuario>\u001b[m\u001b[K’ and ‘\u001b[01m\u001b[Kstd::nullptr_t\u001b[m\u001b[K’)\n",
            "           inicio = final = \u001b[01;31m\u001b[Ktmp = nullptr\u001b[m\u001b[K;\n",
            "                            \u001b[01;31m\u001b[K~~~~^~~~~~~~~\u001b[m\u001b[K\n",
            "\u001b[01m\u001b[Kejercicio1.cpp:12:8:\u001b[m\u001b[K \u001b[01;36m\u001b[Knote: \u001b[m\u001b[Kcandidate: Nodo<Usuario>& Nodo<Usuario>::operator=(const Nodo<Usuario>&)\n",
            " struct \u001b[01;36m\u001b[KNodo\u001b[m\u001b[K{\n",
            "        \u001b[01;36m\u001b[K^~~~\u001b[m\u001b[K\n",
            "\u001b[01m\u001b[Kejercicio1.cpp:12:8:\u001b[m\u001b[K \u001b[01;36m\u001b[Knote: \u001b[m\u001b[K  no known conversion for argument 1 from ‘\u001b[01m\u001b[Kstd::nullptr_t\u001b[m\u001b[K’ to ‘\u001b[01m\u001b[Kconst Nodo<Usuario>&\u001b[m\u001b[K’\n",
            "\u001b[01m\u001b[Kejercicio1.cpp:12:8:\u001b[m\u001b[K \u001b[01;36m\u001b[Knote: \u001b[m\u001b[Kcandidate: Nodo<Usuario>& Nodo<Usuario>::operator=(Nodo<Usuario>&&)\n",
            "\u001b[01m\u001b[Kejercicio1.cpp:12:8:\u001b[m\u001b[K \u001b[01;36m\u001b[Knote: \u001b[m\u001b[K  no known conversion for argument 1 from ‘\u001b[01m\u001b[Kstd::nullptr_t\u001b[m\u001b[K’ to ‘\u001b[01m\u001b[KNodo<Usuario>&&\u001b[m\u001b[K’\n"
          ]
        }
      ]
    },
    {
      "cell_type": "markdown",
      "source": [
        "#Ejercicio 2"
      ],
      "metadata": {
        "id": "1bz7ZZp0KTXP"
      }
    },
    {
      "cell_type": "markdown",
      "source": [
        ">Implemente los algoritmos de ordenamiento que producen los siguientes resultados:"
      ],
      "metadata": {
        "id": "m6UXcOlTKcr2"
      }
    },
    {
      "cell_type": "markdown",
      "source": [
        "* Algoritmo 1:\n",
        "\n",
        "[ s s k y b n v j h t ]\n",
        "\n",
        "[ b s k y s n v j h t ]\n",
        "\n",
        "[ b h k y s n v j s t ]\n",
        "\n",
        "[ b h j y s n v k s t ]\n",
        "\n",
        "[ b h j k s n v y s t ]\n",
        "\n",
        "[ b h j k n s v y s t ]\n",
        "\n",
        "[ b h j k n s s y v t ]\n",
        "\n",
        "[ b h j k n s s t v y ]\n",
        "\n",
        "* Algoritmo 2:\n",
        "\n",
        "[ b l n s d w f ]\n",
        "\n",
        "[ b l n s s w f ]\n",
        "\n",
        "[ b l n n s w f ]\n",
        "\n",
        "[ b l l n s w f ]\n",
        "\n",
        "[ b d l n s w f ]\n",
        "\n",
        "[ b d l n s w w ]\n",
        "\n",
        "[ b d l n s s w ]\n",
        "\n",
        "[ b d l n n s w ]\n",
        "\n",
        "[ b d l l n s w ]\n",
        "\n",
        "[ b d f l n s w ]"
      ],
      "metadata": {
        "id": "ZwYmOl2hOSCz"
      }
    },
    {
      "cell_type": "markdown",
      "source": [
        "Que algoritmo no realiza intercambios?\n",
        "\n",
        "> Insertion Sort\n",
        "\n",
        "¿Cuál es el algoritmo que realiza la menos cantidad de intercambios?\n",
        "\n",
        "> Selection Sort\n",
        "\n",
        "¿Cuál es la complejidad al\n",
        "\n",
        "Cual es el algoritmo basico que podria ser mas eficiente"
      ],
      "metadata": {
        "id": "9Gk5QfE3X8DC"
      }
    },
    {
      "cell_type": "code",
      "source": [
        "%%writefile ejercicio2.cpp\n",
        "\n",
        "#include <ctime>\n",
        "#include <cstdio>\n",
        "#include <string>\n",
        "#include <functional>\n",
        "#include <iostream>\n",
        "\n",
        "using std::function;\n",
        "using std::string;\n",
        "\n",
        "using namespace std;\n",
        "\n",
        "typedef unsigned long ul;\n",
        "\n",
        "template <class G>\n",
        "class Vector{\n",
        "    private:\n",
        "      G* arr;\n",
        "      long id;\n",
        "      ul size;\n",
        "\n",
        "    public:\n",
        "      Vector(ul size=10) : size(size), id(-1){\n",
        "          arr = new G[size];\n",
        "      }\n",
        "      ~Vector(){}\n",
        "\n",
        "      void swap(G* a, G* b){\n",
        "          G temp = *a;\n",
        "          *a = *b;\n",
        "          *b = temp;\n",
        "      }\n",
        "\n",
        "      void push_back(G value){\n",
        "          arr[++id] = value;\n",
        "      }\n",
        "\n",
        "      void iterate(function<void(G)> func){\n",
        "          for(int i=0; i<=id; i++)\n",
        "            func(arr[i]);\n",
        "          printf(\"\\n\");\n",
        "      }\n",
        "\n",
        "      void selectionSort(){\n",
        "          long id_min;\n",
        "          for(int i=0; i<=id-1; i++){\n",
        "              id_min = i;\n",
        "              for(int j=i+1; j<=id; j++)\n",
        "                if(arr[j] < arr[id_min])\n",
        "                  id_min = j;\n",
        "              \n",
        "              swap(&arr[id_min], &arr[i]);\n",
        "          }\n",
        "      }\n",
        "\n",
        "      void insertionSort(){\n",
        "          int key, j;\n",
        "          for(int i=1; i<id; i++){\n",
        "              key = arr[i];\n",
        "              j = i-1;\n",
        "              while(j>=0 && arr[j]>key){\n",
        "                  arr[j+1] = arr[j];\n",
        "                  j = j-1;\n",
        "              }\n",
        "              arr[j+1] = key;\n",
        "          }\n",
        "      }\n",
        "};\n",
        "\n",
        "int main(){\n",
        "    srand(time(NULL));\n",
        "\n",
        "    Vector<char> vChar(10);\n",
        "    Vector<char> vCharNew(10);\n",
        "\n",
        "    for(size_t i=0; i<10; i++){\n",
        "        int random1 = rand()% 24 + 97;\n",
        "        int random2 = rand()% 24 + 97;\n",
        "        vChar.push_back(char(random1));\n",
        "        vCharNew.push_back(char(random2));\n",
        "    }\n",
        "    \n",
        "    vChar.iterate([](char c) {printf(\"%c\", c);});\n",
        "    vChar.selectionSort();\n",
        "    vChar.iterate([](char c) {printf(\"%c\", c);});\n",
        "\n",
        "    printf(\"\\n\");\n",
        "\n",
        "    vCharNew.iterate([](char c) {printf(\"%c\", c);});\n",
        "    vCharNew.insertionSort();\n",
        "    vCharNew.iterate([](char c) {printf(\"%c\", c);});\n",
        "}"
      ],
      "metadata": {
        "colab": {
          "base_uri": "https://localhost:8080/"
        },
        "id": "fO9hOKSKKwaK",
        "outputId": "14e27758-d216-4778-8eeb-e33c97d49766"
      },
      "execution_count": null,
      "outputs": [
        {
          "output_type": "stream",
          "name": "stdout",
          "text": [
            "Overwriting ejercicio2.cpp\n"
          ]
        }
      ]
    },
    {
      "cell_type": "code",
      "source": [
        "!g++ ejercicio2.cpp && ./a.out"
      ],
      "metadata": {
        "colab": {
          "base_uri": "https://localhost:8080/"
        },
        "id": "qSkC57liSAWS",
        "outputId": "7d497811-e563-4f33-a7c4-8b95e00e60a3"
      },
      "execution_count": null,
      "outputs": [
        {
          "output_type": "stream",
          "name": "stdout",
          "text": [
            "agncutxkib\n",
            "abcgikntux\n",
            "\n",
            "gpfekhhckl\n",
            "cefghhkkpl\n"
          ]
        }
      ]
    },
    {
      "cell_type": "markdown",
      "source": [
        "#Pilas de tamaño fijo con arreglos\n"
      ],
      "metadata": {
        "id": "VM5rDVL_eG8i"
      }
    },
    {
      "cell_type": "markdown",
      "source": [
        "* push()\n",
        "* pop()\n",
        "* top()\n",
        "* empty()\n",
        "* full()\n",
        "* size()"
      ],
      "metadata": {
        "id": "xR5LTHfs6Zhz"
      }
    },
    {
      "cell_type": "code",
      "source": [
        "%%writefile PilaFija.cpp\n",
        "\n",
        "#include <iostream>\n",
        "#include <functional>\n",
        "#include <string>\n",
        "#include <cassert>\n",
        "\n",
        "using namespace std;\n",
        "\n",
        "typedef unsigned short us;\n",
        "\n",
        "template <typename G>\n",
        "\n",
        "class Stack{\n",
        "    private:\n",
        "        G* arr;\n",
        "        short top;\n",
        "        short size;\n",
        "    public:\n",
        "        Stack(short size) : size(size), top(-1){\n",
        "            arr = new G[size];\n",
        "        }\n",
        "\n",
        "        short isFull(){\n",
        "            return top == size-1;\n",
        "        }\n",
        "        short isEmpty(){\n",
        "            return top == -1;\n",
        "        }\n",
        "\n",
        "        bool push(G value){\n",
        "            if(isFull())\n",
        "                return false;\n",
        "            arr[++top] = value;\n",
        "            return true;\n",
        "        }\n",
        "\n",
        "        void display(function<void(G)> print){\n",
        "            for(short i=top; i>=0; i--){\n",
        "                print(arr[i]);\n",
        "            }\n",
        "            cout << \"\\n\";\n",
        "        }\n",
        "\n",
        "        void printTop(function<void(G)> print){\n",
        "            //size_t i = top;\n",
        "            print(arr[top]);\n",
        "        }\n",
        "\n",
        "        G pop(){\n",
        "            assert(!isEmpty());\n",
        "            return arr[top--];\n",
        "        }\n",
        "\n",
        "        G peek(){\n",
        "            assert(!isEmpty());\n",
        "            return arr[top];\n",
        "        }\n",
        "\n",
        "        void Size(){\n",
        "            assert(!isEmpty());\n",
        "            cout << top << \"\\n\";\n",
        "        }\n",
        "};\n",
        "\n",
        "class Usuario{\n",
        "    string nombre;\n",
        "    short edad;\n",
        "\n",
        "    public:\n",
        "    Usuario(string nombre=\"\", short edad = 18) : nombre(nombre), edad(edad){}\n",
        "    string toString(){\n",
        "        return nombre + \" \" + to_string(edad) + \"\\n\";\n",
        "    }\n",
        "};\n",
        "\n",
        "int main(){\n",
        "    Stack<Usuario> Usuarios(5);\n",
        "    Usuarios.push(Usuario(\"Juan\", 18));\n",
        "    Usuarios.push(Usuario(\"Angelica\", 19));\n",
        "    Usuarios.push(Usuario(\"Mayra\", 32));\n",
        "    \n",
        "    Usuarios.printTop([](Usuario u) {cout << u.toString();});\n",
        "    Usuarios.Size();\n",
        "    Usuarios.pop();\n",
        "    Usuarios.Size();\n",
        "    Usuarios.display([](Usuario u) {cout << u.toString();});\n",
        "    return 0;\n",
        "}"
      ],
      "metadata": {
        "id": "Rn-yTCmX_fCc",
        "colab": {
          "base_uri": "https://localhost:8080/"
        },
        "outputId": "5b8f0457-9db8-4595-e633-6dcde6f7b728"
      },
      "execution_count": null,
      "outputs": [
        {
          "output_type": "stream",
          "name": "stdout",
          "text": [
            "Overwriting PilaFija.cpp\n"
          ]
        }
      ]
    },
    {
      "cell_type": "code",
      "source": [
        "!g++ PilaFija.cpp -o PilaFija.exe && ./PilaFija.exe"
      ],
      "metadata": {
        "colab": {
          "base_uri": "https://localhost:8080/"
        },
        "id": "MogMOT0ScOHe",
        "outputId": "abf7a0a3-a1eb-465b-e3f8-1828c2948058"
      },
      "execution_count": null,
      "outputs": [
        {
          "output_type": "stream",
          "name": "stdout",
          "text": [
            "Mayra 32\n",
            "2\n",
            "1\n",
            "Angelica 19\n",
            "Juan 18\n",
            "\n"
          ]
        }
      ]
    },
    {
      "cell_type": "markdown",
      "source": [
        "#Pilas de tamaño dinámico con listas enlazadas"
      ],
      "metadata": {
        "id": "UJy-2IObOnCW"
      }
    },
    {
      "cell_type": "markdown",
      "source": [
        "Operaciones:\n",
        "* push()\n",
        "* pop()\n",
        "* top()\n",
        "* empty()\n",
        "* size()"
      ],
      "metadata": {
        "id": "avWE1kgTOrzV"
      }
    },
    {
      "cell_type": "code",
      "source": [
        "%%writefile PilaDinamica.cpp\n",
        "\n",
        "#include <iostream>\n",
        "#include <functional>\n",
        "#include <string>\n",
        "#include <cassert>\n",
        "\n",
        "using namespace std;\n",
        "\n",
        "typedef unsigned short us;\n",
        "\n",
        "template <class G>\n",
        "struct Nodo{\n",
        "    public:\n",
        "        G elemento;\n",
        "        Nodo<G>* sig;\n",
        "        Nodo(G valor){\n",
        "            elemento = valor;\n",
        "            sig = nullptr;\n",
        "        }\n",
        "};\n",
        "\n",
        "template <class G>\n",
        "class Lista{\n",
        "    private:\n",
        "        Nodo<G>* nodoTop;\n",
        "        short top;\n",
        "        short cant;\n",
        "\n",
        "    public:\n",
        "        Lista(short cant) : cant(cant), top(-1){\n",
        "            nodoTop = nullptr;\n",
        "        }\n",
        "\n",
        "        short isEmpty(){\n",
        "            return top == -1;\n",
        "        }\n",
        "\n",
        "        void Size(){\n",
        "            assert(!isEmpty());\n",
        "            cout << \"Top->\" << top << \" Cantidad->\" << cant << \"\\n\"; \n",
        "        }\n",
        "\n",
        "        void printTop(function<void(G)> print){\n",
        "            Nodo<G>* aux = nodoTop;\n",
        "            print(aux->elemento);\n",
        "        }\n",
        "\n",
        "        void push(G valor){\n",
        "            Nodo<G>* nuevo = new Nodo<G>(valor);\n",
        "            if(isEmpty() == 1){\n",
        "                nodoTop = nuevo;\n",
        "            }\n",
        "            else{\n",
        "                nodoTop->sig = nuevo;\n",
        "                nodoTop = nuevo;\n",
        "            }\n",
        "            \n",
        "            if(top == cant-1)\n",
        "                cant++;\n",
        "            top++;\n",
        "        }\n",
        "\n",
        "        void display(function<void(G)> print){\n",
        "            Nodo<G>* aux = nodoTop;\n",
        "            while(aux != nullptr){\n",
        "                print(aux->elemento);\n",
        "                aux = aux->sig;\n",
        "            }\n",
        "            cout << \"\\n\";\n",
        "        }\n",
        "};\n",
        "\n",
        "class Usuario{\n",
        "    string nombre;\n",
        "    short edad;\n",
        "\n",
        "    public:\n",
        "        Usuario(string nombre=\"\", short edad=18) : nombre(nombre), edad(edad){}\n",
        "        string toString(){\n",
        "            return nombre + \" \" + to_string(edad) + \"\\n\";\n",
        "        }\n",
        "};\n",
        "\n",
        "int main(){\n",
        "    Lista<Usuario> comunidad(5);\n",
        "    comunidad.push(Usuario(\"Juan\", 18));\n",
        "    comunidad.push(Usuario(\"Angelica\", 19));\n",
        "    comunidad.push(Usuario(\"Mayra\", 32));\n",
        "    comunidad.push(Usuario(\"Ariana\", 19));\n",
        "    comunidad.push(Usuario(\"Araceli\", 20));\n",
        "    comunidad.push(Usuario(\"Paula\", 18));\n",
        "    comunidad.push(Usuario(\"Mateo\", 18));\n",
        "\n",
        "    comunidad.printTop([](Usuario u) {cout << u.toString();});\n",
        "    comunidad.Size();\n",
        "\n",
        "    comunidad.display([](Usuario u) {cout << u.toString();});\n",
        "    return 0;\n",
        "}"
      ],
      "metadata": {
        "colab": {
          "base_uri": "https://localhost:8080/"
        },
        "id": "ODdlFb4OAw6B",
        "outputId": "d50ddf04-554c-4dda-ea0a-80100f7c77d5"
      },
      "execution_count": 11,
      "outputs": [
        {
          "output_type": "stream",
          "name": "stdout",
          "text": [
            "Writing PilaDinamica.cpp\n"
          ]
        }
      ]
    },
    {
      "cell_type": "code",
      "source": [
        "!g++ PilaDinamica.cpp && ./a.out"
      ],
      "metadata": {
        "colab": {
          "base_uri": "https://localhost:8080/"
        },
        "id": "z7stbYUHA00-",
        "outputId": "572880bd-5c00-4db2-efc5-287d1c9f9db1"
      },
      "execution_count": 14,
      "outputs": [
        {
          "output_type": "stream",
          "name": "stdout",
          "text": [
            "Mateo 18\n",
            "Top->6 Cantidad->7\n",
            "Mateo 18\n",
            "\n"
          ]
        }
      ]
    }
  ]
}